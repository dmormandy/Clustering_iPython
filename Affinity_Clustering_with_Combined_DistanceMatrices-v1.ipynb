{
 "cells": [
  {
   "cell_type": "markdown",
   "metadata": {},
   "source": [
    "# Using AffinityPropagation Clustering Algorithm with predefined data from multiple Metrics"
   ]
  },
  {
   "cell_type": "markdown",
   "metadata": {},
   "source": [
    "This code combines Geolocation Data with a predefined distance matrix as input to the Affinity Clustering Algorithm"
   ]
  },
  {
   "cell_type": "code",
   "execution_count": 32,
   "metadata": {
    "collapsed": false
   },
   "outputs": [],
   "source": [
    "# Enable inline plotting in notebook (rather than Plotting to separate window)\n",
    "%matplotlib inline\n",
    "\n",
    "#Plotting Packages\n",
    "import matplotlib\n",
    "import matplotlib.pyplot as plt\n",
    "from matplotlib.colors import ListedColormap\n",
    "\n",
    "import numpy as np\n",
    "import pandas as pd\n",
    "import numpy as np\n",
    "import scipy as sp\n",
    "import math\n",
    "\n",
    "#Sklearn Packages\n",
    "from sklearn.neighbors import NearestNeighbors\n",
    "from sklearn.cluster import AgglomerativeClustering\n",
    "from sklearn.metrics.pairwise import euclidean_distances\n",
    "from sklearn import preprocessing\n",
    "from sklearn.cluster import KMeans, SpectralClustering, AffinityPropagation, affinity_propagation\n",
    "\n",
    "#Scipy Packages\n",
    "from scipy.sparse import * \n",
    "import scipy.sparse as ss\n",
    "from pprint import pprint"
   ]
  },
  {
   "cell_type": "markdown",
   "metadata": {},
   "source": [
    "# Import Data"
   ]
  },
  {
   "cell_type": "markdown",
   "metadata": {},
   "source": [
    "## Import Geographic Data"
   ]
  },
  {
   "cell_type": "code",
   "execution_count": 36,
   "metadata": {
    "collapsed": true
   },
   "outputs": [],
   "source": [
    "# Set the path to the data files - change this to where you store your files\n",
    "analysisPath = 'C:/Clustering/'"
   ]
  },
  {
   "cell_type": "code",
   "execution_count": 37,
   "metadata": {
    "collapsed": false
   },
   "outputs": [],
   "source": [
    "# Define the input filename\n",
    "input_file = analysisPath + \"LatLong_data.csv\"\n",
    "\n",
    "# Read the csv files into dataframes\n",
    "df_latlong = pd.read_csv(input_file,low_memory=False)"
   ]
  },
  {
   "cell_type": "code",
   "execution_count": 38,
   "metadata": {
    "collapsed": false
   },
   "outputs": [
    {
     "name": "stdout",
     "output_type": "stream",
     "text": [
      "     Country  latitude  longitude  Node\n",
      "0  Australia -37739625  145003594  PNND\n",
      "1  Australia -37694450  145024870  KPBD\n",
      "2  Australia -37720293  144984804  CNBD\n",
      "3  Australia -37734323  144906185  ENBD\n",
      "4  Australia -37752300  144935000  BWCG\n"
     ]
    }
   ],
   "source": [
    "print(df_latlong.head(5))"
   ]
  },
  {
   "cell_type": "markdown",
   "metadata": {},
   "source": [
    "## Import predefined Similarity Matrix"
   ]
  },
  {
   "cell_type": "code",
   "execution_count": 39,
   "metadata": {
    "collapsed": false
   },
   "outputs": [],
   "source": [
    "# Define the input filename - format is Node1 Node2 Similarity_Metric\n",
    "input_file = analysisPath + \"similarity_matrix.csv\"\n",
    "\n",
    "# Read the csv files into two dataframes\n",
    "df_similarity = pd.read_csv(input_file,low_memory=False)"
   ]
  },
  {
   "cell_type": "code",
   "execution_count": 40,
   "metadata": {
    "collapsed": false
   },
   "outputs": [
    {
     "name": "stdout",
     "output_type": "stream",
     "text": [
      "      X     Y  Similarity_Metric\n",
      "0  ANYG  BSVZ                  4\n",
      "1  ANYG  BSVZ                  9\n",
      "2  ANYG  BWKD                178\n",
      "3  ANYG  BKQR                  5\n",
      "4  ANYG  BKQR                 25\n"
     ]
    }
   ],
   "source": [
    "print(df_similarity.head(5))"
   ]
  },
  {
   "cell_type": "markdown",
   "metadata": {},
   "source": [
    "### Create COO Matrix from Similarity Matrix"
   ]
  },
  {
   "cell_type": "code",
   "execution_count": 41,
   "metadata": {
    "collapsed": false
   },
   "outputs": [],
   "source": [
    "# Create COO Matrix from this Data\n",
    "# Clustering Algorithm won't accept strings as input, so convert NodeNames to NodeNumbers\n",
    "# Relationships may be duplicated - need to collate and combine\n",
    "rowNNames = df_similarity['X'].tolist()\n",
    "colNNames = df_similarity['Y'].tolist()\n",
    "allNNames = rowNames + colNames\n",
    "\n",
    "# Create Unique List of Node names\n",
    "NNamesSet = sorted(list(set(allNNames)))"
   ]
  },
  {
   "cell_type": "code",
   "execution_count": 42,
   "metadata": {
    "collapsed": false
   },
   "outputs": [
    {
     "name": "stdout",
     "output_type": "stream",
     "text": [
      "['ANAL', 'ANYG', 'AVBD', 'AVSD', 'AVWD', 'BEZG', 'BFDL', 'BKGD', 'BKQR', 'BKZC', 'BLLD', 'BLSD', 'BLWD', 'BLYD', 'BMBD', 'BSVZ', 'BUAD', 'BUBD', 'BWCG', 'BWGO', 'BWKD', 'BWXL', 'BYDD', 'CBDD', 'CBXD', 'CDHD', 'CDHU', 'CEZG', 'CIYC', 'CLHD', 'CNBD', 'CQAD', 'CTBD', 'CTDD', 'CWGV', 'CWTG', 'DLLS', 'DNXD', 'DOWX', 'DUEN', 'EAGD', 'EJLD', 'EKBD', 'ELBD', 'EMBD', 'EMHO', 'ENBD', 'ESBD', 'ESGL', 'ESSD', 'EWTG', 'EYAD', 'FAFD', 'FAWT', 'FETG', 'FGFD', 'FIWD', 'FKAR', 'FNBD', 'FNZC', 'FRCD', 'FRUV', 'FSUD', 'FTAP', 'GBND', 'GDBD', 'GLZD', 'GRZW', 'GSBZ', 'GTED', 'GWEG', 'GWNG', 'GYBD', 'HDLD', 'HDND', 'HEER', 'HEUV', 'HGAM', 'HTFD', 'IVBD', 'KEQG', 'KNCD', 'KPBD', 'KSHG', 'KWBD', 'KWCD', 'KWSD', 'KWWD', 'LATD', 'LAYO', 'LLOD', 'MECD', 'MFSD', 'MLBD', 'MMOD', 'MPOD', 'MTPD', 'MVFP', 'MXDD', 'NCER', 'NEJE', 'NLDD', 'NMBD', 'NMCD', 'NMWD', 'NMYN', 'NOBD', 'NSFD', 'OAQG', 'OUNA', 'PAFG', 'PAZD', 'PCBD', 'PCNX', 'PHRL', 'PNND', 'PPBD', 'PRBD', 'PRXJ', 'PRYW', 'PWBD', 'RESD', 'REZG', 'RLCZ', 'RNBD', 'RTED', 'RVBD', 'RWTD', 'SHBD', 'SPZG', 'SVAV', 'SVHD', 'TBWD', 'TBYD', 'TBZD', 'THWD', 'TIIN', 'TLWD', 'TPBD', 'TSWD', 'TTWC', 'TYXC', 'VBKD', 'WBMY', 'WIHW', 'WNBD', 'WSND', 'XHBI', 'YCMC', 'YLBG', 'YWAA']\n",
      "151\n"
     ]
    }
   ],
   "source": [
    "print(sorted(NNamesSet))\n",
    "print(len(NNamesSet))"
   ]
  },
  {
   "cell_type": "code",
   "execution_count": 43,
   "metadata": {
    "collapsed": false
   },
   "outputs": [],
   "source": [
    "# Combine data into a dictionary of NodeName, NodeNumber\n",
    "NNamesDict = {}\n",
    "\n",
    "for i in range(0,len(NNamesSet)):\n",
    "    key = NNamesSet[i]\n",
    "    NNamesDict[key] = i\n",
    "#pprint(NNamesDict)\n",
    "\n",
    "# Recreate dataset as NodeNumbers\n",
    "rowNNumber = []\n",
    "colNNumber = []\n",
    "for i in range(0,len(rowNNames)):\n",
    "    rowNNumber.append(NNamesDict[rowNNames[i]])\n",
    "    colNNumber.append(NNamesDict[colNNames[i]])"
   ]
  },
  {
   "cell_type": "code",
   "execution_count": 44,
   "metadata": {
    "collapsed": false
   },
   "outputs": [
    {
     "name": "stdout",
     "output_type": "stream",
     "text": [
      "(151, 151)\n",
      "  (1, 15)\t4\n",
      "  (1, 15)\t9\n",
      "  (1, 20)\t178\n",
      "  (1, 8)\t5\n",
      "  (1, 8)\t25\n",
      "  (1, 9)\t4\n",
      "  (1, 9)\t38\n",
      "  (1, 93)\t15\n",
      "  (1, 93)\t8\n",
      "  (1, 20)\t135\n",
      "  (1, 20)\t170\n",
      "  (1, 18)\t7\n",
      "  (1, 35)\t7\n",
      "  (1, 93)\t172\n",
      "  (6, 73)\t72\n",
      "  (6, 73)\t52\n",
      "  (6, 101)\t18\n",
      "  (6, 106)\t40\n",
      "  (6, 117)\t115\n",
      "  (6, 124)\t6\n",
      "  (6, 119)\t18\n",
      "  (6, 131)\t1\n",
      "  (6, 52)\t6\n",
      "  (6, 65)\t8\n",
      "  (6, 73)\t406\n",
      "  :\t:\n",
      "  (134, 115)\t41\n",
      "  (134, 118)\t282\n",
      "  (134, 118)\t172\n",
      "  (134, 118)\t7\n",
      "  (134, 120)\t28\n",
      "  (134, 122)\t7\n",
      "  (134, 132)\t35\n",
      "  (134, 132)\t46\n",
      "  (134, 133)\t89\n",
      "  (134, 133)\t251\n",
      "  (134, 134)\t9\n",
      "  (134, 134)\t419\n",
      "  (141, 101)\t10\n",
      "  (141, 106)\t80\n",
      "  (141, 117)\t11\n",
      "  (141, 134)\t15\n",
      "  (141, 106)\t106\n",
      "  (141, 117)\t37\n",
      "  (141, 134)\t17\n",
      "  (141, 52)\t19\n",
      "  (141, 106)\t260\n",
      "  (141, 117)\t13\n",
      "  (141, 134)\t5\n",
      "  (141, 0)\t2\n",
      "  (141, 99)\t88\n"
     ]
    }
   ],
   "source": [
    "# Convert format to COO Matrix: Row, Column, Value\n",
    "smetric = np.array(df_similarity['Similarity_Metric'])\n",
    "smetric.astype(float)\n",
    "S = ss.coo_matrix((smetric, (rowNNumber, colNNumber)), shape=(len(NNamesSet), len(NNamesSet)))\n",
    "print(S.shape)\n",
    "print(S)"
   ]
  },
  {
   "cell_type": "markdown",
   "metadata": {},
   "source": [
    "## Combine Matrices"
   ]
  },
  {
   "cell_type": "markdown",
   "metadata": {},
   "source": [
    "### First make sure both Matrices are based on same data"
   ]
  },
  {
   "cell_type": "code",
   "execution_count": 45,
   "metadata": {
    "collapsed": false
   },
   "outputs": [
    {
     "name": "stdout",
     "output_type": "stream",
     "text": [
      "['HOED', 'ZOAX', 'XVBD', 'HQPM', 'VCCL', 'CGEL']\n"
     ]
    }
   ],
   "source": [
    "## Remove Nodes that aren't in the Similarity Matrix\n",
    "dropNode = [r for r in df_latlong['Node'] if r not in namesSet]\n",
    "print(dropNode)"
   ]
  },
  {
   "cell_type": "code",
   "execution_count": 46,
   "metadata": {
    "collapsed": false
   },
   "outputs": [
    {
     "name": "stdout",
     "output_type": "stream",
     "text": [
      "(151, 4)\n"
     ]
    }
   ],
   "source": [
    "df_latlong = df_latlong[~df_latlong['Node'].isin(dropNode)]\n",
    "print(df_latlong.shape)"
   ]
  },
  {
   "cell_type": "code",
   "execution_count": 47,
   "metadata": {
    "collapsed": false
   },
   "outputs": [
    {
     "name": "stdout",
     "output_type": "stream",
     "text": [
      "       Country  latitude  longitude  Node\n",
      "32   Australia -37781003  145031668  ANAL\n",
      "108  Australia -37762800  144962000  ANYG\n",
      "74   Australia -37766300  144924000  AVBD\n",
      "98   Australia -37777800  144930000  AVSD\n",
      "100  Australia -37777100  144906000  AVWD\n"
     ]
    }
   ],
   "source": [
    "df_latlong = df_latlong.sort_values(by=('Node'), ascending=True)\n",
    "print(df_latlong.head(5))"
   ]
  },
  {
   "cell_type": "markdown",
   "metadata": {},
   "source": [
    "### Convert Lat Long Matrix to Similarity CSR Format"
   ]
  },
  {
   "cell_type": "code",
   "execution_count": 60,
   "metadata": {
    "collapsed": false
   },
   "outputs": [],
   "source": [
    "# Latitude and Longitude values need to be converted\n",
    "df_latlong['Lat'] = df_latlong['latitude'].apply(lambda x: x/1000000)\n",
    "df_latlong['Long'] = df_latlong['longitude'].apply(lambda x: x/1000000)"
   ]
  },
  {
   "cell_type": "code",
   "execution_count": 61,
   "metadata": {
    "collapsed": true
   },
   "outputs": [],
   "source": [
    "# Lat Long Matrix is currently in Samples x Features format\n",
    "df_LL = df_latlong[['Lat','Long']]"
   ]
  },
  {
   "cell_type": "code",
   "execution_count": 62,
   "metadata": {
    "collapsed": false
   },
   "outputs": [],
   "source": [
    "# Create Euclidean Distance Matrix from Lat Long Matrix\n",
    "LL_dist = euclidean_distances(df_LL, df_LL)    #ll_distances is in matrix form"
   ]
  },
  {
   "cell_type": "code",
   "execution_count": 63,
   "metadata": {
    "collapsed": false
   },
   "outputs": [
    {
     "name": "stdout",
     "output_type": "stream",
     "text": [
      "(151, 151)\n"
     ]
    }
   ],
   "source": [
    "print(LL_dist.shape)"
   ]
  },
  {
   "cell_type": "code",
   "execution_count": 64,
   "metadata": {
    "collapsed": false
   },
   "outputs": [],
   "source": [
    "# Convert Euclidean Distance matrix to CSR Format\n",
    "LLcsr = ss.csr_matrix(LL_dist)  #Convert to csr before normalizing\n",
    "#print(L)"
   ]
  },
  {
   "cell_type": "code",
   "execution_count": 65,
   "metadata": {
    "collapsed": false
   },
   "outputs": [],
   "source": [
    "# Normalise Data\n",
    "LLcsr_norm = preprocessing.normalize(LLcsr, norm='l2')"
   ]
  },
  {
   "cell_type": "code",
   "execution_count": 88,
   "metadata": {
    "collapsed": false
   },
   "outputs": [],
   "source": [
    "# Convert to Similarity Matrix\n",
    "O = np.ones(LLcsr_norm.shape)\n",
    "Ocsr = ss.csr_matrix(O)\n",
    "LLcsr_sim = Ocsr - LLcsr_norm"
   ]
  },
  {
   "cell_type": "markdown",
   "metadata": {},
   "source": [
    "### Convert Similarity Metric Matrix to CSR Format"
   ]
  },
  {
   "cell_type": "code",
   "execution_count": 89,
   "metadata": {
    "collapsed": false
   },
   "outputs": [
    {
     "name": "stderr",
     "output_type": "stream",
     "text": [
      "C:\\Anaconda3\\lib\\site-packages\\sklearn\\utils\\validation.py:429: DataConversionWarning: Data with input dtype int64 was converted to float64 by the normalize function.\n",
      "  warnings.warn(msg, _DataConversionWarning)\n"
     ]
    }
   ],
   "source": [
    "Scsr = S.tocsr()\n",
    "Scsr_norm = preprocessing.normalize(Scsr, norm='l2')"
   ]
  },
  {
   "cell_type": "markdown",
   "metadata": {},
   "source": [
    "### Combine Data by summing Matrices"
   ]
  },
  {
   "cell_type": "code",
   "execution_count": 94,
   "metadata": {
    "collapsed": false
   },
   "outputs": [],
   "source": [
    "Ccsr = Scsr_norm + LLcsr_sim"
   ]
  },
  {
   "cell_type": "markdown",
   "metadata": {},
   "source": [
    "## Affinity Clustering"
   ]
  },
  {
   "cell_type": "code",
   "execution_count": 95,
   "metadata": {
    "collapsed": false
   },
   "outputs": [],
   "source": [
    "Sim_matrix = Ccsr.toarray()"
   ]
  },
  {
   "cell_type": "code",
   "execution_count": 117,
   "metadata": {
    "collapsed": false
   },
   "outputs": [
    {
     "name": "stdout",
     "output_type": "stream",
     "text": [
      "21\n"
     ]
    }
   ],
   "source": [
    "# Setup Affinity Propagation\n",
    "AP = AffinityPropagation(damping=0.5, max_iter=200, convergence_iter=15, copy=True, preference=None, affinity='precomputed', verbose=False)\n",
    "af = AP.fit(Sim_matrix)\n",
    "\n",
    "cluster_centers_indices = af.cluster_centers_indices_\n",
    "labels = af.labels_\n",
    "\n",
    "clusterCount = len(cluster_centers_indices)\n",
    "print(clusterCount)"
   ]
  },
  {
   "cell_type": "markdown",
   "metadata": {},
   "source": [
    "### Print Cluster Label results"
   ]
  },
  {
   "cell_type": "code",
   "execution_count": 118,
   "metadata": {
    "collapsed": false
   },
   "outputs": [
    {
     "name": "stdout",
     "output_type": "stream",
     "text": [
      "[19  1  0  0  0  7  8 12  0  1  9  2  2  2  7  1  2 12 13  1  1  2  3  7 13\n",
      "  6 15  6 17  6  3 13  6  6  0  1  7  4  4  4  9  5  2 20  6  6  5  5 13  5\n",
      "  5  5  6 19 13  6 17  6  7  7 15 10 10 13 10 20 19  8  2 20  2  7  8  8  9\n",
      "  9 10  9  9  8 19 10  2  3 19 19 19 19 17 12  7  3 17  1  1 20  0 17 17  9\n",
      " 18 10 16 11 11 11 11  6 18  5 12 10 13 15 14 15 14 15 18 14 16  3  3  3 10\n",
      "  9  3  3  7  2 17 20 18 16 18 18  3 12  4  4  4 11 18  9  9 19  4 20 17 20\n",
      " 17]\n"
     ]
    }
   ],
   "source": [
    "print(labels)"
   ]
  },
  {
   "cell_type": "markdown",
   "metadata": {},
   "source": [
    "### Output results"
   ]
  },
  {
   "cell_type": "code",
   "execution_count": 119,
   "metadata": {
    "collapsed": false
   },
   "outputs": [],
   "source": [
    "df_Af = pd.DataFrame({'Name':namesSet,'Cluster':labels.tolist(),'Lat':df_latlong['Lat'],'Long':df_latlong['Long'],'Country':'Australia'})"
   ]
  },
  {
   "cell_type": "code",
   "execution_count": 120,
   "metadata": {
    "collapsed": true
   },
   "outputs": [],
   "source": [
    "outputfile='C:/Clustering/AffinityClustering.csv'\n",
    "df_Af.to_csv(outputfile,index=False)"
   ]
  },
  {
   "cell_type": "markdown",
   "metadata": {},
   "source": [
    "### Plot Results"
   ]
  },
  {
   "cell_type": "code",
   "execution_count": 121,
   "metadata": {
    "collapsed": false
   },
   "outputs": [
    {
     "name": "stdout",
     "output_type": "stream",
     "text": [
      "140\n"
     ]
    }
   ],
   "source": [
    "colors = np.array([x for x in 'bgrcmykbgrcmykbgrcmykbgrcmyk'])\n",
    "colors = np.hstack([colors] * 5)\n",
    "print(len(colors))"
   ]
  },
  {
   "cell_type": "code",
   "execution_count": 122,
   "metadata": {
    "collapsed": false
   },
   "outputs": [
    {
     "data": {
      "image/png": "[encoded data removed]",
      "text/plain": [
       "<matplotlib.figure.Figure at 0xda86748>"
      ]
     },
     "metadata": {},
     "output_type": "display_data"
    }
   ],
   "source": [
    "plt.figure(figsize=(10, 6))\n",
    "for i in range(len(labels)):\n",
    "    plt.scatter(df_Af['Lat'], df_Af['Long'], s=40, c=colors[df_Af['Cluster']])\n",
    "plt.show()"
   ]
  },
  {
   "cell_type": "code",
   "execution_count": null,
   "metadata": {
    "collapsed": true
   },
   "outputs": [],
   "source": []
  },
  {
   "cell_type": "code",
   "execution_count": null,
   "metadata": {
    "collapsed": true
   },
   "outputs": [],
   "source": []
  }
 ],
 "metadata": {
  "anaconda-cloud": {},
  "kernelspec": {
   "display_name": "Python [Root]",
   "language": "python",
   "name": "Python [Root]"
  },
  "language_info": {
   "codemirror_mode": {
    "name": "ipython",
    "version": 3
   },
   "file_extension": ".py",
   "mimetype": "text/x-python",
   "name": "python",
   "nbconvert_exporter": "python",
   "pygments_lexer": "ipython3",
   "version": "3.5.2"
  }
 },
 "nbformat": 4,
 "nbformat_minor": 0
}
